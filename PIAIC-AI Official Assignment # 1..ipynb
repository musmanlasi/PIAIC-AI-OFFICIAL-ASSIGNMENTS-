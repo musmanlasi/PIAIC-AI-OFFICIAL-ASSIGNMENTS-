{
 "cells": [
  {
   "cell_type": "markdown",
   "metadata": {},
   "source": [
    "# Offical Assignment # 1 \n",
    "\n",
    "\n",
    "# Name : Muhammad Usman\n",
    "\n",
    "\n",
    "# Roll no : AIC038501\n",
    "\n",
    "\n",
    "# Teacher: Engg. Muhammad Qasim\n",
    "\n",
    "\n",
    "# Campus: Sindh Boys Scout (6:45 pm - 9:45 pm Sunday)\n"
   ]
  },
  {
   "cell_type": "markdown",
   "metadata": {},
   "source": [
    "# 1) Divisibility Check of two numbers :"
   ]
  },
  {
   "cell_type": "code",
   "execution_count": 4,
   "metadata": {},
   "outputs": [
    {
     "name": "stdout",
     "output_type": "stream",
     "text": [
      "Enter numerator int no: 9\n",
      "Enter denumerator int no: 4\n",
      "Number 9 is not Completely divisible by 4\n"
     ]
    }
   ],
   "source": [
    "num = int(input('Enter numerator int no: '))\n",
    "den = int(input('Enter denumerator int no: '))\n",
    "if num%den == 0:\n",
    "    print(f'Number {num} is Completely divisible by {den}')\n",
    "else:\n",
    "    print(f'Number {num} is not Completely divisible by {den}')"
   ]
  },
  {
   "cell_type": "markdown",
   "metadata": {},
   "source": [
    "# 2) Calculate Area of a Circle:"
   ]
  },
  {
   "cell_type": "code",
   "execution_count": 9,
   "metadata": {},
   "outputs": [
    {
     "name": "stdout",
     "output_type": "stream",
     "text": [
      "Enter a radius of a circle:? 73\n",
      "The area of circle having a radius of 73.0 cm is 16733.06 sq-cm\n"
     ]
    }
   ],
   "source": [
    "rad = float(input('Enter a radius of a circle:? '))\n",
    "area = 3.14 * (rad ** 2)\n",
    "print(f'The area of circle having a radius of {rad} cm is {area} sq-cm')"
   ]
  },
  {
   "cell_type": "markdown",
   "metadata": {},
   "source": [
    "# 3) Calculate Volume of a sphere: "
   ]
  },
  {
   "cell_type": "code",
   "execution_count": 10,
   "metadata": {},
   "outputs": [
    {
     "name": "stdout",
     "output_type": "stream",
     "text": [
      "Enter Radius of a Sphere: 123\n",
      "Volume of the Sphere with Radius 123.0 is 7790829.84\n"
     ]
    }
   ],
   "source": [
    "rad = float(input('Enter Radius of a Sphere: '))\n",
    "vol = (4/3) * 3.14 * (rad**3)\n",
    "print(f'Volume of the Sphere with Radius {rad} is {vol:.2f}')"
   ]
  },
  {
   "cell_type": "markdown",
   "metadata": {},
   "source": [
    "# 4) Area of a Triangle  :"
   ]
  },
  {
   "cell_type": "code",
   "execution_count": 12,
   "metadata": {},
   "outputs": [
    {
     "name": "stdout",
     "output_type": "stream",
     "text": [
      "Enter magnitude of Triangle base:24\n",
      "Enter magnitude of Triangle height:30\n",
      "Area of a Triangle with Height 30 and Base 24 is 360\n"
     ]
    }
   ],
   "source": [
    "b = int(input('Enter magnitude of Triangle base:'))\n",
    "h = int(input('Enter magnitude of Triangle height:'))\n",
    "area = (b*h) // 2\n",
    "print(f'Area of a Triangle with Height {h} and Base {b} is {area}')"
   ]
  },
  {
   "cell_type": "markdown",
   "metadata": {},
   "source": [
    "# 5) Euclidean distance :"
   ]
  },
  {
   "cell_type": "code",
   "execution_count": 13,
   "metadata": {},
   "outputs": [
    {
     "name": "stdout",
     "output_type": "stream",
     "text": [
      "Enter Co-ordinate for x1: 4\n",
      "Enter Co-ordinate for x2: 5\n",
      "Enter Co-ordinate for y1: 6\n",
      "Enter Co-ordinate for y2: 8\n",
      "Distance between points (4.0, 6.0) and (5.0, 8.0) is 2.449489742783178\n"
     ]
    }
   ],
   "source": [
    "import math\n",
    "x1 = float(input('Enter Co-ordinate for x1: '))\n",
    "x2 = float(input('Enter Co-ordinate for x2: '))\n",
    "y1 = float(input('Enter Co-ordinate for y1: '))\n",
    "y2 = float(input('Enter Co-ordinate for y2: '))\n",
    "x = (x2 - x1) * 2\n",
    "y = (y2 - y1) * 2\n",
    "dist = math.sqrt(x+y)\n",
    "\n",
    "print(f'Distance between points {(x1, y1)} and {(x2, y2)} is {dist}')"
   ]
  },
  {
   "cell_type": "markdown",
   "metadata": {},
   "source": [
    "# 6) Check Number either positive, negative or zero :"
   ]
  },
  {
   "cell_type": "code",
   "execution_count": 1,
   "metadata": {},
   "outputs": [
    {
     "name": "stdout",
     "output_type": "stream",
     "text": [
      "Enter any num: 73\n",
      "Positive Number: 73.0\n"
     ]
    }
   ],
   "source": [
    "num = float(input('Enter any num: '))\n",
    "if num < 0:\n",
    "    print(\"Negative Number:\",num)\n",
    "elif num > 0:\n",
    "    print(\"Positive Number:\",num)\n",
    "else:\n",
    "    print(\"Zero Number:\",num)\n"
   ]
  },
  {
   "cell_type": "markdown",
   "metadata": {},
   "source": [
    "# 7) Days Calculator :"
   ]
  },
  {
   "cell_type": "code",
   "execution_count": 2,
   "metadata": {},
   "outputs": [
    {
     "name": "stdout",
     "output_type": "stream",
     "text": [
      "Enter a date in (dd/mm/yy) format: 21/12/1998\n",
      "Enter a date in (dd/mm/yy) format: 21/12/98\n",
      "There are 693500 days in between 21/12/1998 and 21/12/98\n"
     ]
    }
   ],
   "source": [
    "date1 = input('Enter a date in (dd/mm/yy) format: ')\n",
    "date2 = input('Enter a date in (dd/mm/yy) format: ')\n",
    " \n",
    "days_d1 = (int(date1[6:]) * 365) + (int(date1[3:5])  * 30.42) + int(date1[:2]) \n",
    "days_d2 = (int(date2[6:]) * 365) +  (int(date2[3:5])  * 30.42) + int(date2[:2])\n",
    "\n",
    "day_all = int(max(days_d1, days_d2) - min(days_d1, days_d2))\n",
    "\n",
    "print(f'There are {day_all} days in between {date1} and {date2}')"
   ]
  },
  {
   "cell_type": "markdown",
   "metadata": {},
   "source": [
    "# 8) Calculate Interest :"
   ]
  },
  {
   "cell_type": "code",
   "execution_count": 3,
   "metadata": {},
   "outputs": [
    {
     "name": "stdout",
     "output_type": "stream",
     "text": [
      "Please enter principal amount: 200\n",
      "Please Enter Rate of interest in %: 9\n",
      "Enter number of years for investment: 25\n",
      "After 25.0 years your principal amount 200.0 over an interest rate of 9.0 % will be 45200.0\n"
     ]
    }
   ],
   "source": [
    "amount = float(input('Please enter principal amount: '))\n",
    "rate = float(input('Please Enter Rate of interest in %: '))\n",
    "years = float(input('Enter number of years for investment: '))\n",
    "total = amount * (1 + (rate*years))\n",
    "print(f'After {years} years your principal amount {amount} over an interest rate of {rate} % will be {total}')"
   ]
  },
  {
   "cell_type": "markdown",
   "metadata": {},
   "source": [
    "# 9) BMI Calculator :"
   ]
  },
  {
   "cell_type": "code",
   "execution_count": 1,
   "metadata": {},
   "outputs": [
    {
     "name": "stdout",
     "output_type": "stream",
     "text": [
      "Enter Height in cm:183\n",
      "Enter Weight in kg:76\n",
      "Your BMI is 22.69\n"
     ]
    }
   ],
   "source": [
    "h = float(input('Enter Height in cm:'))\n",
    "w = float(input('Enter Weight in kg:'))\n",
    "bmi = w / ((h / 100) ** 2)\n",
    "print(f'Your BMI is {bmi:.2f}')"
   ]
  },
  {
   "cell_type": "markdown",
   "metadata": {},
   "source": [
    "# 10) Feet to Centimeter Converter :"
   ]
  },
  {
   "cell_type": "code",
   "execution_count": 2,
   "metadata": {},
   "outputs": [
    {
     "name": "stdout",
     "output_type": "stream",
     "text": [
      "Enter Height in Feet: 5.88\n",
      "There are 179.2224 cm in 5.88 ft\n"
     ]
    }
   ],
   "source": [
    "feet = float(input('Enter Height in Feet: '))\n",
    "print(f'There are {feet * 30.48} cm in {feet} ft')"
   ]
  },
  {
   "cell_type": "markdown",
   "metadata": {},
   "source": [
    "# 11) Decimal to Binary Converter :"
   ]
  },
  {
   "cell_type": "code",
   "execution_count": 3,
   "metadata": {},
   "outputs": [
    {
     "name": "stdout",
     "output_type": "stream",
     "text": [
      "Enter a decimal number: 73\n",
      "Binary Reperesentation of 73 is 1001001\n"
     ]
    }
   ],
   "source": [
    "dec = int(input(\"Enter a decimal number: \"))\n",
    "num = bin(dec)\n",
    "print(\"Binary Reperesentation of\",dec,\"is\",num[2:])"
   ]
  },
  {
   "cell_type": "markdown",
   "metadata": {},
   "source": [
    "# 12) Binary to Decimal Converter :"
   ]
  },
  {
   "cell_type": "code",
   "execution_count": 4,
   "metadata": {},
   "outputs": [
    {
     "name": "stdout",
     "output_type": "stream",
     "text": [
      "Enter a binary number: 01000101\n",
      "69\n"
     ]
    }
   ],
   "source": [
    "bn = int(input('Enter a binary number: '))\n",
    "dec = 0\n",
    "i = 0\n",
    "while bn:\n",
    "    dec += (bn % 10) * (2 ** i)\n",
    "    bn = bn // 10\n",
    "    i +=1\n",
    "print(dec)"
   ]
  },
  {
   "cell_type": "markdown",
   "metadata": {},
   "source": [
    "# 13) Check if number is Even or Odd :"
   ]
  },
  {
   "cell_type": "code",
   "execution_count": 5,
   "metadata": {},
   "outputs": [
    {
     "name": "stdout",
     "output_type": "stream",
     "text": [
      "Enter num: 24\n",
      "24 is even\n"
     ]
    }
   ],
   "source": [
    "num = int(input('Enter num: '))\n",
    "if num%2 == 0:\n",
    "     print(f'{num} is even')\n",
    "else:\n",
    "    print(f'{num} is odd')"
   ]
  },
  {
   "cell_type": "markdown",
   "metadata": {},
   "source": [
    "# 14) Sum of n Positive Integers :"
   ]
  },
  {
   "cell_type": "code",
   "execution_count": 6,
   "metadata": {},
   "outputs": [
    {
     "name": "stdout",
     "output_type": "stream",
     "text": [
      "Enter value of n: 32\n",
      "Sum of n Positive integers till 32 is 528\n"
     ]
    }
   ],
   "source": [
    "num = int(input('Enter value of n: '))\n",
    "print(f'Sum of n Positive integers till {num} is {sum(range(num+1))}')"
   ]
  },
  {
   "cell_type": "markdown",
   "metadata": {},
   "source": [
    "# 15) Digits Sum of a Number;"
   ]
  },
  {
   "cell_type": "code",
   "execution_count": 8,
   "metadata": {},
   "outputs": [
    {
     "name": "stdout",
     "output_type": "stream",
     "text": [
      "Enter value of n: 9\n",
      "Sum of n Positive integers till 9 is 45\n"
     ]
    }
   ],
   "source": [
    "number = int(input(\"Enter value of n: \"))\n",
    "sum_num = (number * (number + 1)) / 2\n",
    "print(\"Sum of n Positive integers till\",number,\"is\",int(sum_num))"
   ]
  },
  {
   "cell_type": "markdown",
   "metadata": {},
   "source": [
    "# 16) Vowel Tester:"
   ]
  },
  {
   "cell_type": "code",
   "execution_count": 10,
   "metadata": {},
   "outputs": [
    {
     "name": "stdout",
     "output_type": "stream",
     "text": [
      "Enter character: A\n",
      "A is a vowel letter\n"
     ]
    }
   ],
   "source": [
    "ch = input('Enter character: ')\n",
    "char = ch.lower()\n",
    "if char in ['a', 'e', 'i', 'o', 'u']:\n",
    "    print(f'{ch} is a vowel letter')"
   ]
  },
  {
   "cell_type": "markdown",
   "metadata": {},
   "source": [
    "# 17) Vowel and Consonants Counter :"
   ]
  },
  {
   "cell_type": "code",
   "execution_count": 11,
   "metadata": {},
   "outputs": [
    {
     "name": "stdout",
     "output_type": "stream",
     "text": [
      "Enter text: Qwerty\n",
      "Vowels : 1\n",
      "Consonants : 5\n"
     ]
    }
   ],
   "source": [
    "text = input('Enter text: ').lower()\n",
    "v = 0\n",
    "c = 0\n",
    "for i in range(len(text)):\n",
    "    if text[i] in ['a', 'e', 'i', 'o', 'u']:\n",
    "        v +=1\n",
    "    else:\n",
    "        c +=1\n",
    "print(\"Vowels :\" ,v)\n",
    "print(\"Consonants :\",c)"
   ]
  },
  {
   "cell_type": "markdown",
   "metadata": {},
   "source": [
    "# 18) Count Alphabets, Numbers and Special Characters ::"
   ]
  },
  {
   "cell_type": "code",
   "execution_count": 1,
   "metadata": {},
   "outputs": [
    {
     "name": "stdout",
     "output_type": "stream",
     "text": [
      "Enter text: I should go to 2,3 highlands for natural meditation.\n",
      "Numbers = 2\n",
      "Alphabets = 40\n",
      "Special Characters = 2\n",
      "Spaces = 8\n"
     ]
    }
   ],
   "source": [
    "text = input(\"Enter text: \")\n",
    "a = 0\n",
    "b = 0\n",
    "c = 0\n",
    "d = 0\n",
    "for x in text:\n",
    "    if int(ord(x)) >= 65 and int(ord(x)) <= 122:\n",
    "        a += 1\n",
    "    elif int(ord(x)) >= 48 and int(ord(x)) <= 57:\n",
    "        b += 1\n",
    "    elif x == \" \":\n",
    "        d += 1\n",
    "    else:\n",
    "        c += 1\n",
    "print(\"Numbers =\",b)\n",
    "print(\"Alphabets =\",a)\n",
    "print(\"Special Characters =\",c)\n",
    "print(\"Spaces =\",d)"
   ]
  },
  {
   "cell_type": "markdown",
   "metadata": {},
   "source": [
    "# 19) Palindrome tester :"
   ]
  },
  {
   "cell_type": "code",
   "execution_count": 2,
   "metadata": {},
   "outputs": [
    {
     "name": "stdout",
     "output_type": "stream",
     "text": [
      "Enter text: kharachi\n",
      "Text is not Palidrome kharachi\n"
     ]
    }
   ],
   "source": [
    "text = input('Enter text: ')\n",
    "if text == text[::-1]:\n",
    "    print(\"Text is Palidrome\",text)\n",
    "else: \n",
    "    print(\"Text is not Palidrome\",text)"
   ]
  },
  {
   "cell_type": "markdown",
   "metadata": {},
   "source": [
    "# 20)  Write a Python program to construct the following pattern :"
   ]
  },
  {
   "cell_type": "code",
   "execution_count": 4,
   "metadata": {},
   "outputs": [
    {
     "name": "stdout",
     "output_type": "stream",
     "text": [
      "1 \n",
      "2 2 \n",
      "3 3 3 \n",
      "4 4 4 4 \n",
      "5 5 5 5 5 \n",
      "6 6 6 6 6 6 \n",
      "7 7 7 7 7 7 7 \n",
      "8 8 8 8 8 8 8 8 \n",
      "9 9 9 9 9 9 9 9 9 \n"
     ]
    }
   ],
   "source": [
    "for r in range(1,10):\n",
    "    for c in range(r):\n",
    "        print(r, end=' ')\n",
    "    print()"
   ]
  },
  {
   "cell_type": "markdown",
   "metadata": {},
   "source": [
    "#  21) Write a Python program to construct the following pattern :"
   ]
  },
  {
   "cell_type": "code",
   "execution_count": 10,
   "metadata": {},
   "outputs": [
    {
     "name": "stdout",
     "output_type": "stream",
     "text": [
      "\n",
      "1 \n",
      "1 2 \n",
      "1 2 3 \n",
      "1 2 3 4 \n",
      "1 2 3 4 5 \n",
      "1 2 3 4 5 6 \n",
      "1 2 3 4 5 6 7 \n",
      "1 2 3 4 5 6 7 8 \n",
      "1 2 3 4 5 6 7 8 9 \n",
      "1 2 3 4 5 6 7 8 \n",
      "1 2 3 4 5 6 7 \n",
      "1 2 3 4 5 6 \n",
      "1 2 3 4 5 \n",
      "1 2 3 4 \n",
      "1 2 3 \n",
      "1 2 \n",
      "1 \n"
     ]
    }
   ],
   "source": [
    "e = 9\n",
    "for r in range(10):\n",
    "    for c in range(r):\n",
    "        print(c+1, end=' ')\n",
    "    print()\n",
    "    \n",
    "for r in range(1, 9):\n",
    "    for c in range(1, e):\n",
    "        print(c, end=' ')\n",
    "    e -= 1\n",
    "    print()"
   ]
  },
  {
   "cell_type": "markdown",
   "metadata": {},
   "source": [
    "# 22)  Write a Python program to construct the following pattern :"
   ]
  },
  {
   "cell_type": "code",
   "execution_count": 13,
   "metadata": {},
   "outputs": [
    {
     "name": "stdout",
     "output_type": "stream",
     "text": [
      "\n",
      "+\n",
      "++\n",
      "+++\n",
      "++++\n",
      "+++++\n",
      "++++++\n",
      "+++++++\n",
      "++++++++\n",
      "********\n",
      "*******\n",
      "******\n",
      "*****\n",
      "****\n",
      "***\n",
      "**\n",
      "*\n"
     ]
    }
   ],
   "source": [
    "for r in range(9):\n",
    "    for c in range(r):\n",
    "        print('+', end='')\n",
    "    print()\n",
    "    \n",
    "for r in range(8):\n",
    "    for c in range(r, 8):\n",
    "        print('*', end='')\n",
    "    print()"
   ]
  },
  {
   "cell_type": "markdown",
   "metadata": {},
   "source": [
    "# 23)  Copy string n times :"
   ]
  },
  {
   "cell_type": "code",
   "execution_count": 16,
   "metadata": {},
   "outputs": [
    {
     "name": "stdout",
     "output_type": "stream",
     "text": [
      "Enter String:     KASHMIR    \n",
      "How many copies of String you need: 20\n",
      "20 Copies of     KASHMIR     are     KASHMIR        KASHMIR        KASHMIR        KASHMIR        KASHMIR        KASHMIR        KASHMIR        KASHMIR        KASHMIR        KASHMIR        KASHMIR        KASHMIR        KASHMIR        KASHMIR        KASHMIR        KASHMIR        KASHMIR        KASHMIR        KASHMIR        KASHMIR    \n"
     ]
    }
   ],
   "source": [
    "text = input('Enter String: ')\n",
    "times = int(input('How many copies of String you need: '))\n",
    "print(f'{times} Copies of {text} are {text * times}')"
   ]
  },
  {
   "cell_type": "code",
   "execution_count": null,
   "metadata": {},
   "outputs": [],
   "source": []
  }
 ],
 "metadata": {
  "kernelspec": {
   "display_name": "Python 3",
   "language": "python",
   "name": "python3"
  },
  "language_info": {
   "codemirror_mode": {
    "name": "ipython",
    "version": 3
   },
   "file_extension": ".py",
   "mimetype": "text/x-python",
   "name": "python",
   "nbconvert_exporter": "python",
   "pygments_lexer": "ipython3",
   "version": "3.7.3"
  }
 },
 "nbformat": 4,
 "nbformat_minor": 2
}
